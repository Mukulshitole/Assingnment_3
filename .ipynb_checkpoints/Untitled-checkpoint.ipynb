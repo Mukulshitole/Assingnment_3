{
 "cells": [
  {
   "cell_type": "code",
   "execution_count": 1,
   "id": "b83f3e26",
   "metadata": {},
   "outputs": [],
   "source": [
    "import pandas as pd\n",
    "import yfinance as yf\n",
    "import matplotlib.pyplot as plt"
   ]
  },
  {
   "cell_type": "code",
   "execution_count": 2,
   "id": "8a154b15",
   "metadata": {
    "scrolled": true
   },
   "outputs": [
    {
     "name": "stdout",
     "output_type": "stream",
     "text": [
      "[*********************100%%**********************]  1 of 1 completed\n"
     ]
    }
   ],
   "source": [
    "ticker = \"RELIANCE.NS\" \n",
    "data = yf.download(ticker, start=\"2020-01-01\", end=\"2023-01-01\")"
   ]
  },
  {
   "cell_type": "code",
   "execution_count": 3,
   "id": "e87805bd",
   "metadata": {},
   "outputs": [
    {
     "name": "stdout",
     "output_type": "stream",
     "text": [
      "                   Open         High          Low        Close    Adj Close  \\\n",
      "Date                                                                          \n",
      "2020-01-01  1387.957031  1396.277466  1376.527954  1380.276611  1360.645142   \n",
      "2020-01-02  1382.471069  1408.941040  1382.471069  1403.775024  1383.809448   \n",
      "2020-01-03  1401.671997  1409.581055  1392.528687  1405.466553  1385.476807   \n",
      "2020-01-06  1389.785767  1397.008911  1369.670410  1372.870605  1353.344482   \n",
      "2020-01-07  1388.871338  1403.043579  1383.842529  1393.991699  1374.165283   \n",
      "\n",
      "              Volume  \n",
      "Date                  \n",
      "2020-01-01   7002234  \n",
      "2020-01-02   8855158  \n",
      "2020-01-03  10492349  \n",
      "2020-01-06  12259588  \n",
      "2020-01-07   8341811  \n"
     ]
    }
   ],
   "source": [
    "print(data.head())"
   ]
  },
  {
   "cell_type": "code",
   "execution_count": null,
   "id": "1e42d663",
   "metadata": {},
   "outputs": [],
   "source": []
  }
 ],
 "metadata": {
  "kernelspec": {
   "display_name": "Python 3 (ipykernel)",
   "language": "python",
   "name": "python3"
  },
  "language_info": {
   "codemirror_mode": {
    "name": "ipython",
    "version": 3
   },
   "file_extension": ".py",
   "mimetype": "text/x-python",
   "name": "python",
   "nbconvert_exporter": "python",
   "pygments_lexer": "ipython3",
   "version": "3.11.5"
  },
  "varInspector": {
   "cols": {
    "lenName": 16,
    "lenType": 16,
    "lenVar": 40
   },
   "kernels_config": {
    "python": {
     "delete_cmd_postfix": "",
     "delete_cmd_prefix": "del ",
     "library": "var_list.py",
     "varRefreshCmd": "print(var_dic_list())"
    },
    "r": {
     "delete_cmd_postfix": ") ",
     "delete_cmd_prefix": "rm(",
     "library": "var_list.r",
     "varRefreshCmd": "cat(var_dic_list()) "
    }
   },
   "types_to_exclude": [
    "module",
    "function",
    "builtin_function_or_method",
    "instance",
    "_Feature"
   ],
   "window_display": false
  }
 },
 "nbformat": 4,
 "nbformat_minor": 5
}
